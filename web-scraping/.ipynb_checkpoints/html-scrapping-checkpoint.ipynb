{
 "cells": [
  {
   "cell_type": "code",
   "execution_count": 213,
   "metadata": {},
   "outputs": [],
   "source": [
    "from bs4 import BeautifulSoup\n",
    "import io, os.path, glob, tempfile, re, textwrap\n",
    "import requests, urllib, json\n",
    "import numpy as np\n",
    "import pandas as pd\n",
    "import re\n",
    "import cssselect\n",
    "import html5lib"
   ]
  },
  {
   "cell_type": "code",
   "execution_count": 11,
   "metadata": {},
   "outputs": [],
   "source": [
    "page = requests.get('https://pl.wikipedia.org/wiki/Zygmunt_III_Waza')"
   ]
  },
  {
   "cell_type": "code",
   "execution_count": 14,
   "metadata": {},
   "outputs": [],
   "source": [
    "soup = BeautifulSoup(page.text,'html.parser')"
   ]
  },
  {
   "cell_type": "code",
   "execution_count": 29,
   "metadata": {},
   "outputs": [],
   "source": [
    "menu = soup.find('div', {'id':'toc'})\n",
    "links = menu.find_all('a')"
   ]
  },
  {
   "cell_type": "code",
   "execution_count": 79,
   "metadata": {},
   "outputs": [
    {
     "name": "stdout",
     "output_type": "stream",
     "text": [
      "https://pl.wikipedia.org/wiki/Zygmunt_III_Waza#Charakterystyka_postaci ------------- Charakterystyka postaci\n",
      "https://pl.wikipedia.org/wiki/Zygmunt_III_Waza#Młodość ------------- Młodość\n",
      "https://pl.wikipedia.org/wiki/Zygmunt_III_Waza#Herby_i_tytuły_królewskie ------------- Herby i tytuły królewskie\n",
      "https://pl.wikipedia.org/wiki/Zygmunt_III_Waza#Objęcie_władzy_w_Rzeczypospolitej_Obojga_Narodów ------------- Objęcie władzy w Rzeczypospolitej Obojga Narodów\n",
      "https://pl.wikipedia.org/wiki/Zygmunt_III_Waza#Bunty_kozackie ------------- Bunty kozackie\n",
      "https://pl.wikipedia.org/wiki/Zygmunt_III_Waza#Król_Szwecji ------------- Król Szwecji\n",
      "https://pl.wikipedia.org/wiki/Zygmunt_III_Waza#Polityka_wyznaniowa ------------- Polityka wyznaniowa\n",
      "https://pl.wikipedia.org/wiki/Zygmunt_III_Waza#Wojna_z_Imperium_Osmańskim ------------- Wojna z Imperium Osmańskim\n",
      "https://pl.wikipedia.org/wiki/Zygmunt_III_Waza#Próba_zamachu ------------- Próba zamachu\n",
      "https://pl.wikipedia.org/wiki/Zygmunt_III_Waza#Interwencja_w_księstwach_naddunajskich ------------- Interwencja w księstwach naddunajskich\n",
      "https://pl.wikipedia.org/wiki/Zygmunt_III_Waza#Wojna_ze_Szwecją ------------- Wojna ze Szwecją\n",
      "https://pl.wikipedia.org/wiki/Zygmunt_III_Waza#Rokosz_Zebrzydowskiego ------------- Rokosz Zebrzydowskiego\n",
      "https://pl.wikipedia.org/wiki/Zygmunt_III_Waza#Wojna_z_Rosją ------------- Wojna z Rosją\n",
      "https://pl.wikipedia.org/wiki/Zygmunt_III_Waza#Schyłek_panowania ------------- Schyłek panowania\n",
      "https://pl.wikipedia.org/wiki/Zygmunt_III_Waza#Inwestycje_i_fundacje ------------- Inwestycje i fundacje\n",
      "https://pl.wikipedia.org/wiki/Zygmunt_III_Waza#Genealogia ------------- Genealogia\n",
      "https://pl.wikipedia.org/wiki/Zygmunt_III_Waza#Rodzina ------------- Rodzina\n",
      "https://pl.wikipedia.org/wiki/Zygmunt_III_Waza#Galeria ------------- Galeria\n",
      "https://pl.wikipedia.org/wiki/Zygmunt_III_Waza#Zobacz_też ------------- Zobacz też\n",
      "https://pl.wikipedia.org/wiki/Zygmunt_III_Waza#Przypisy ------------- Przypisy\n"
     ]
    }
   ],
   "source": [
    "for link in links:\n",
    "    print(\"https://pl.wikipedia.org/wiki/Zygmunt_III_Waza\" + link['href'] + \" ------------- \" + link.find('span', {'class':'toctext'}).string)"
   ]
  },
  {
   "cell_type": "code",
   "execution_count": 80,
   "metadata": {},
   "outputs": [
    {
     "data": {
      "text/plain": [
       "116.0"
      ]
     },
     "execution_count": 80,
     "metadata": {},
     "output_type": "execute_result"
    }
   ],
   "source": [
    "cdr = requests.get('https://stooq.pl/q/?s=cdr')\n",
    "soup = BeautifulSoup(cdr.text, 'html.parser')\n",
    "course = float(soup.find('span', {'id':'aq_cdr_c2'}).string)\n",
    "course"
   ]
  },
  {
   "cell_type": "code",
   "execution_count": 135,
   "metadata": {},
   "outputs": [],
   "source": [
    "movie = requests.get('http://www.filmweb.pl/film/Player+One-2018-719889')\n",
    "soup = BeautifulSoup(movie.text, 'html.parser')"
   ]
  },
  {
   "cell_type": "code",
   "execution_count": 136,
   "metadata": {},
   "outputs": [
    {
     "data": {
      "text/plain": [
       "'Steven Spielberg'"
      ]
     },
     "execution_count": 136,
     "metadata": {},
     "output_type": "execute_result"
    }
   ],
   "source": [
    "director = soup.find('ul', {\"class\":'inline sep-comma'}).find('a').string\n",
    "director"
   ]
  },
  {
   "cell_type": "code",
   "execution_count": 137,
   "metadata": {},
   "outputs": [
    {
     "data": {
      "text/plain": [
       "7.422399997711182"
      ]
     },
     "execution_count": 137,
     "metadata": {},
     "output_type": "execute_result"
    }
   ],
   "source": [
    "rating = soup.find('script',{'data-type':'setfilm'})\n",
    "rating = float(re.findall(r'rate:(\\d.\\d+)',rating.string)[0])\n",
    "rating"
   ]
  },
  {
   "cell_type": "code",
   "execution_count": 154,
   "metadata": {},
   "outputs": [
    {
     "data": {
      "text/plain": [
       "521900064.0"
      ]
     },
     "execution_count": 154,
     "metadata": {},
     "output_type": "execute_result"
    }
   ],
   "source": [
    "wrapper = soup.find('div',{'class':'filmInfo bottom-15'})\n",
    "boxoffice = float(wrapper.find_all('tr')[-1].find('td').contents[0].split('$')[1].replace(' ',''))\n",
    "boxoffice"
   ]
  },
  {
   "cell_type": "code",
   "execution_count": 183,
   "metadata": {},
   "outputs": [],
   "source": [
    "def findLink(title):\n",
    "    results = requests.get('http://www.filmweb.pl/search?q=' + title)\n",
    "    results = BeautifulSoup(results.text, 'html.parser')\n",
    "    return \"https://www.filmweb.pl\" + results.find('li', {'class':'hits__item'}).find('a', {'class':'filmPreview__link'})['href']"
   ]
  },
  {
   "cell_type": "code",
   "execution_count": 184,
   "metadata": {},
   "outputs": [
    {
     "data": {
      "text/plain": [
       "'https://www.filmweb.pl/film/Logan%3A+Wolverine-2017-713552'"
      ]
     },
     "execution_count": 184,
     "metadata": {},
     "output_type": "execute_result"
    }
   ],
   "source": [
    "findLink('Logan')"
   ]
  },
  {
   "cell_type": "code",
   "execution_count": 187,
   "metadata": {},
   "outputs": [],
   "source": [
    "def filmInfo(title):\n",
    "    link = findLink(title)\n",
    "    movie = requests.get(link)\n",
    "    soup = BeautifulSoup(movie.text, 'html.parser')\n",
    "    director = soup.find('ul', {\"class\":'inline sep-comma'}).find('a').string\n",
    "    rating = soup.find('script',{'data-type':'setfilm'})\n",
    "    rating = float(re.findall(r'rate:(\\d.\\d+)',rating.string)[0])\n",
    "    wrapper = soup.find('div',{'class':'filmInfo bottom-15'})\n",
    "    boxoffice = float(wrapper.find_all('tr')[-1].find('td').contents[0].split('$')[1].replace(' ',''))\n",
    "    return {'director':director,'rating':rating,'boxoffice':boxoffice}"
   ]
  },
  {
   "cell_type": "code",
   "execution_count": 192,
   "metadata": {},
   "outputs": [
    {
     "data": {
      "text/plain": [
       "{'boxoffice': 521900064.0,\n",
       " 'director': 'Steven Spielberg',\n",
       " 'rating': 7.422399997711182}"
      ]
     },
     "execution_count": 192,
     "metadata": {},
     "output_type": "execute_result"
    }
   ],
   "source": [
    "filmInfo('Player One')"
   ]
  },
  {
   "cell_type": "code",
   "execution_count": 219,
   "metadata": {},
   "outputs": [],
   "source": [
    "mojo = pd.read_html('http://www.boxofficemojo.com/yearly/chart/?p=.htm&yr=2018')"
   ]
  },
  {
   "cell_type": "code",
   "execution_count": 250,
   "metadata": {},
   "outputs": [
    {
     "ename": "ValueError",
     "evalue": "Length mismatch: Expected axis has 9 elements, new values have 8 elements",
     "output_type": "error",
     "traceback": [
      "\u001b[0;31m---------------------------------------------------------------------------\u001b[0m",
      "\u001b[0;31mValueError\u001b[0m                                Traceback (most recent call last)",
      "\u001b[0;32m<ipython-input-250-3208434b7686>\u001b[0m in \u001b[0;36m<module>\u001b[0;34m()\u001b[0m\n\u001b[1;32m      5\u001b[0m \u001b[0mrankings\u001b[0m \u001b[0;34m=\u001b[0m \u001b[0mrankings\u001b[0m\u001b[0;34m.\u001b[0m\u001b[0mdrop\u001b[0m\u001b[0;34m(\u001b[0m\u001b[0;36m0\u001b[0m\u001b[0;34m,\u001b[0m\u001b[0maxis\u001b[0m\u001b[0;34m=\u001b[0m\u001b[0;36m0\u001b[0m\u001b[0;34m)\u001b[0m\u001b[0;34m\u001b[0m\u001b[0m\n\u001b[1;32m      6\u001b[0m \u001b[0mrankings\u001b[0m \u001b[0;34m=\u001b[0m \u001b[0mrankings\u001b[0m\u001b[0;34m.\u001b[0m\u001b[0mdrop\u001b[0m\u001b[0;34m(\u001b[0m\u001b[0;34m[\u001b[0m\u001b[0;36m102\u001b[0m\u001b[0;34m,\u001b[0m\u001b[0;36m103\u001b[0m\u001b[0;34m,\u001b[0m\u001b[0;36m104\u001b[0m\u001b[0;34m,\u001b[0m\u001b[0;36m105\u001b[0m\u001b[0;34m]\u001b[0m\u001b[0;34m,\u001b[0m\u001b[0maxis\u001b[0m\u001b[0;34m=\u001b[0m\u001b[0;36m0\u001b[0m\u001b[0;34m)\u001b[0m\u001b[0;34m\u001b[0m\u001b[0m\n\u001b[0;32m----> 7\u001b[0;31m \u001b[0mrankings\u001b[0m\u001b[0;34m.\u001b[0m\u001b[0mcolumns\u001b[0m \u001b[0;34m=\u001b[0m \u001b[0;34m[\u001b[0m\u001b[0;34m\"Rank\"\u001b[0m\u001b[0;34m,\u001b[0m \u001b[0;34m\"Title\"\u001b[0m\u001b[0;34m,\u001b[0m \u001b[0;34m\"Producer\"\u001b[0m\u001b[0;34m,\u001b[0m \u001b[0;34m\"Boxoffice\"\u001b[0m\u001b[0;34m,\u001b[0m \u001b[0;34m\"TotalGross\"\u001b[0m\u001b[0;34m,\u001b[0m \u001b[0;34m\"Opening\"\u001b[0m\u001b[0;34m,\u001b[0m \u001b[0;34m\"Open\"\u001b[0m\u001b[0;34m,\u001b[0m \u001b[0;34m\"Close\"\u001b[0m\u001b[0;34m]\u001b[0m\u001b[0;34m\u001b[0m\u001b[0m\n\u001b[0m\u001b[1;32m      8\u001b[0m \u001b[0;34m\u001b[0m\u001b[0m\n\u001b[1;32m      9\u001b[0m \u001b[0mrankings\u001b[0m\u001b[0;34m\u001b[0m\u001b[0m\n",
      "\u001b[0;32m/Library/Frameworks/Python.framework/Versions/3.6/lib/python3.6/site-packages/pandas/core/generic.py\u001b[0m in \u001b[0;36m__setattr__\u001b[0;34m(self, name, value)\u001b[0m\n\u001b[1;32m   3625\u001b[0m         \u001b[0;32mtry\u001b[0m\u001b[0;34m:\u001b[0m\u001b[0;34m\u001b[0m\u001b[0m\n\u001b[1;32m   3626\u001b[0m             \u001b[0mobject\u001b[0m\u001b[0;34m.\u001b[0m\u001b[0m__getattribute__\u001b[0m\u001b[0;34m(\u001b[0m\u001b[0mself\u001b[0m\u001b[0;34m,\u001b[0m \u001b[0mname\u001b[0m\u001b[0;34m)\u001b[0m\u001b[0;34m\u001b[0m\u001b[0m\n\u001b[0;32m-> 3627\u001b[0;31m             \u001b[0;32mreturn\u001b[0m \u001b[0mobject\u001b[0m\u001b[0;34m.\u001b[0m\u001b[0m__setattr__\u001b[0m\u001b[0;34m(\u001b[0m\u001b[0mself\u001b[0m\u001b[0;34m,\u001b[0m \u001b[0mname\u001b[0m\u001b[0;34m,\u001b[0m \u001b[0mvalue\u001b[0m\u001b[0;34m)\u001b[0m\u001b[0;34m\u001b[0m\u001b[0m\n\u001b[0m\u001b[1;32m   3628\u001b[0m         \u001b[0;32mexcept\u001b[0m \u001b[0mAttributeError\u001b[0m\u001b[0;34m:\u001b[0m\u001b[0;34m\u001b[0m\u001b[0m\n\u001b[1;32m   3629\u001b[0m             \u001b[0;32mpass\u001b[0m\u001b[0;34m\u001b[0m\u001b[0m\n",
      "\u001b[0;32mpandas/_libs/properties.pyx\u001b[0m in \u001b[0;36mpandas._libs.properties.AxisProperty.__set__\u001b[0;34m()\u001b[0m\n",
      "\u001b[0;32m/Library/Frameworks/Python.framework/Versions/3.6/lib/python3.6/site-packages/pandas/core/generic.py\u001b[0m in \u001b[0;36m_set_axis\u001b[0;34m(self, axis, labels)\u001b[0m\n\u001b[1;32m    557\u001b[0m \u001b[0;34m\u001b[0m\u001b[0m\n\u001b[1;32m    558\u001b[0m     \u001b[0;32mdef\u001b[0m \u001b[0m_set_axis\u001b[0m\u001b[0;34m(\u001b[0m\u001b[0mself\u001b[0m\u001b[0;34m,\u001b[0m \u001b[0maxis\u001b[0m\u001b[0;34m,\u001b[0m \u001b[0mlabels\u001b[0m\u001b[0;34m)\u001b[0m\u001b[0;34m:\u001b[0m\u001b[0;34m\u001b[0m\u001b[0m\n\u001b[0;32m--> 559\u001b[0;31m         \u001b[0mself\u001b[0m\u001b[0;34m.\u001b[0m\u001b[0m_data\u001b[0m\u001b[0;34m.\u001b[0m\u001b[0mset_axis\u001b[0m\u001b[0;34m(\u001b[0m\u001b[0maxis\u001b[0m\u001b[0;34m,\u001b[0m \u001b[0mlabels\u001b[0m\u001b[0;34m)\u001b[0m\u001b[0;34m\u001b[0m\u001b[0m\n\u001b[0m\u001b[1;32m    560\u001b[0m         \u001b[0mself\u001b[0m\u001b[0;34m.\u001b[0m\u001b[0m_clear_item_cache\u001b[0m\u001b[0;34m(\u001b[0m\u001b[0;34m)\u001b[0m\u001b[0;34m\u001b[0m\u001b[0m\n\u001b[1;32m    561\u001b[0m \u001b[0;34m\u001b[0m\u001b[0m\n",
      "\u001b[0;32m/Library/Frameworks/Python.framework/Versions/3.6/lib/python3.6/site-packages/pandas/core/internals.py\u001b[0m in \u001b[0;36mset_axis\u001b[0;34m(self, axis, new_labels)\u001b[0m\n\u001b[1;32m   3072\u001b[0m             raise ValueError('Length mismatch: Expected axis has %d elements, '\n\u001b[1;32m   3073\u001b[0m                              \u001b[0;34m'new values have %d elements'\u001b[0m \u001b[0;34m%\u001b[0m\u001b[0;34m\u001b[0m\u001b[0m\n\u001b[0;32m-> 3074\u001b[0;31m                              (old_len, new_len))\n\u001b[0m\u001b[1;32m   3075\u001b[0m \u001b[0;34m\u001b[0m\u001b[0m\n\u001b[1;32m   3076\u001b[0m         \u001b[0mself\u001b[0m\u001b[0;34m.\u001b[0m\u001b[0maxes\u001b[0m\u001b[0;34m[\u001b[0m\u001b[0maxis\u001b[0m\u001b[0;34m]\u001b[0m \u001b[0;34m=\u001b[0m \u001b[0mnew_labels\u001b[0m\u001b[0;34m\u001b[0m\u001b[0m\n",
      "\u001b[0;31mValueError\u001b[0m: Length mismatch: Expected axis has 9 elements, new values have 8 elements"
     ]
    }
   ],
   "source": [
    "rankings = mojo[5]\n",
    "rankings = rankings.drop(8,axis=1)\n",
    "\n",
    "rankings = rankings.drop(1,axis=0)\n",
    "rankings = rankings.drop(0,axis=0)\n",
    "rankings = rankings.drop([102,103,104,105],axis=0)\n",
    "rankings.columns = [\"Rank\", \"Title\", \"Producer\", \"Boxoffice\", \"TotalGross\", \"Opening\", \"Open\", \"Close\"]\n",
    "\n",
    "rankings"
   ]
  },
  {
   "cell_type": "code",
   "execution_count": null,
   "metadata": {},
   "outputs": [],
   "source": []
  }
 ],
 "metadata": {
  "kernelspec": {
   "display_name": "Python 3",
   "language": "python",
   "name": "python3"
  },
  "language_info": {
   "codemirror_mode": {
    "name": "ipython",
    "version": 3
   },
   "file_extension": ".py",
   "mimetype": "text/x-python",
   "name": "python",
   "nbconvert_exporter": "python",
   "pygments_lexer": "ipython3",
   "version": "3.6.4"
  }
 },
 "nbformat": 4,
 "nbformat_minor": 2
}
