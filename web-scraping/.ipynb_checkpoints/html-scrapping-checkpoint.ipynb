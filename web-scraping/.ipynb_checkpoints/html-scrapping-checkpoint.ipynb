{
 "cells": [
  {
   "cell_type": "code",
   "execution_count": 76,
   "metadata": {},
   "outputs": [],
   "source": [
    "from bs4 import BeautifulSoup\n",
    "import io, os.path, glob, tempfile, re, textwrap\n",
    "import requests, urllib, json\n",
    "import numpy as np\n",
    "import pandas as pd\n",
    "import re\n",
    "import cssselect"
   ]
  },
  {
   "cell_type": "code",
   "execution_count": 11,
   "metadata": {},
   "outputs": [],
   "source": [
    "page = requests.get('https://pl.wikipedia.org/wiki/Zygmunt_III_Waza')"
   ]
  },
  {
   "cell_type": "code",
   "execution_count": 14,
   "metadata": {},
   "outputs": [],
   "source": [
    "soup = BeautifulSoup(page.text,'html.parser')"
   ]
  },
  {
   "cell_type": "code",
   "execution_count": 29,
   "metadata": {},
   "outputs": [],
   "source": [
    "menu = soup.find('div', {'id':'toc'})\n",
    "links = menu.find_all('a')"
   ]
  },
  {
   "cell_type": "code",
   "execution_count": 79,
   "metadata": {},
   "outputs": [
    {
     "name": "stdout",
     "output_type": "stream",
     "text": [
      "https://pl.wikipedia.org/wiki/Zygmunt_III_Waza#Charakterystyka_postaci ------------- Charakterystyka postaci\n",
      "https://pl.wikipedia.org/wiki/Zygmunt_III_Waza#Młodość ------------- Młodość\n",
      "https://pl.wikipedia.org/wiki/Zygmunt_III_Waza#Herby_i_tytuły_królewskie ------------- Herby i tytuły królewskie\n",
      "https://pl.wikipedia.org/wiki/Zygmunt_III_Waza#Objęcie_władzy_w_Rzeczypospolitej_Obojga_Narodów ------------- Objęcie władzy w Rzeczypospolitej Obojga Narodów\n",
      "https://pl.wikipedia.org/wiki/Zygmunt_III_Waza#Bunty_kozackie ------------- Bunty kozackie\n",
      "https://pl.wikipedia.org/wiki/Zygmunt_III_Waza#Król_Szwecji ------------- Król Szwecji\n",
      "https://pl.wikipedia.org/wiki/Zygmunt_III_Waza#Polityka_wyznaniowa ------------- Polityka wyznaniowa\n",
      "https://pl.wikipedia.org/wiki/Zygmunt_III_Waza#Wojna_z_Imperium_Osmańskim ------------- Wojna z Imperium Osmańskim\n",
      "https://pl.wikipedia.org/wiki/Zygmunt_III_Waza#Próba_zamachu ------------- Próba zamachu\n",
      "https://pl.wikipedia.org/wiki/Zygmunt_III_Waza#Interwencja_w_księstwach_naddunajskich ------------- Interwencja w księstwach naddunajskich\n",
      "https://pl.wikipedia.org/wiki/Zygmunt_III_Waza#Wojna_ze_Szwecją ------------- Wojna ze Szwecją\n",
      "https://pl.wikipedia.org/wiki/Zygmunt_III_Waza#Rokosz_Zebrzydowskiego ------------- Rokosz Zebrzydowskiego\n",
      "https://pl.wikipedia.org/wiki/Zygmunt_III_Waza#Wojna_z_Rosją ------------- Wojna z Rosją\n",
      "https://pl.wikipedia.org/wiki/Zygmunt_III_Waza#Schyłek_panowania ------------- Schyłek panowania\n",
      "https://pl.wikipedia.org/wiki/Zygmunt_III_Waza#Inwestycje_i_fundacje ------------- Inwestycje i fundacje\n",
      "https://pl.wikipedia.org/wiki/Zygmunt_III_Waza#Genealogia ------------- Genealogia\n",
      "https://pl.wikipedia.org/wiki/Zygmunt_III_Waza#Rodzina ------------- Rodzina\n",
      "https://pl.wikipedia.org/wiki/Zygmunt_III_Waza#Galeria ------------- Galeria\n",
      "https://pl.wikipedia.org/wiki/Zygmunt_III_Waza#Zobacz_też ------------- Zobacz też\n",
      "https://pl.wikipedia.org/wiki/Zygmunt_III_Waza#Przypisy ------------- Przypisy\n"
     ]
    }
   ],
   "source": [
    "for link in links:\n",
    "    print(\"https://pl.wikipedia.org/wiki/Zygmunt_III_Waza\" + link['href'] + \" ------------- \" + link.find('span', {'class':'toctext'}).string)"
   ]
  },
  {
   "cell_type": "code",
   "execution_count": 80,
   "metadata": {},
   "outputs": [
    {
     "data": {
      "text/plain": [
       "116.0"
      ]
     },
     "execution_count": 80,
     "metadata": {},
     "output_type": "execute_result"
    }
   ],
   "source": [
    "cdr = requests.get('https://stooq.pl/q/?s=cdr')\n",
    "soup = BeautifulSoup(cdr.text, 'html.parser')\n",
    "course = float(soup.find('span', {'id':'aq_cdr_c2'}).string)\n",
    "course"
   ]
  },
  {
   "cell_type": "code",
   "execution_count": 135,
   "metadata": {},
   "outputs": [],
   "source": [
    "movie = requests.get('http://www.filmweb.pl/film/Player+One-2018-719889')\n",
    "soup = BeautifulSoup(movie.text, 'html.parser')"
   ]
  },
  {
   "cell_type": "code",
   "execution_count": 136,
   "metadata": {},
   "outputs": [
    {
     "data": {
      "text/plain": [
       "'Steven Spielberg'"
      ]
     },
     "execution_count": 136,
     "metadata": {},
     "output_type": "execute_result"
    }
   ],
   "source": [
    "director = soup.find('ul', {\"class\":'inline sep-comma'}).find('a').string\n",
    "director"
   ]
  },
  {
   "cell_type": "code",
   "execution_count": 137,
   "metadata": {},
   "outputs": [
    {
     "data": {
      "text/plain": [
       "7.422399997711182"
      ]
     },
     "execution_count": 137,
     "metadata": {},
     "output_type": "execute_result"
    }
   ],
   "source": [
    "rating = soup.find('script',{'data-type':'setfilm'})\n",
    "rating = float(re.findall(r'rate:(\\d.\\d+)',rating.string)[0])\n",
    "rating"
   ]
  },
  {
   "cell_type": "code",
   "execution_count": 154,
   "metadata": {},
   "outputs": [
    {
     "data": {
      "text/plain": [
       "521900064.0"
      ]
     },
     "execution_count": 154,
     "metadata": {},
     "output_type": "execute_result"
    }
   ],
   "source": [
    "wrapper = soup.find('div',{'class':'filmInfo bottom-15'})\n",
    "boxoffice = float(wrapper.find_all('tr')[-1].find('td').contents[0].split('$')[1].replace(' ',''))\n",
    "boxoffice"
   ]
  },
  {
   "cell_type": "code",
   "execution_count": 183,
   "metadata": {},
   "outputs": [],
   "source": [
    "def findLink(title):\n",
    "    results = requests.get('http://www.filmweb.pl/search?q=' + title)\n",
    "    results = BeautifulSoup(results.text, 'html.parser')\n",
    "    return \"https://www.filmweb.pl\" + results.find('li', {'class':'hits__item'}).find('a', {'class':'filmPreview__link'})['href']"
   ]
  },
  {
   "cell_type": "code",
   "execution_count": 184,
   "metadata": {},
   "outputs": [
    {
     "data": {
      "text/plain": [
       "'https://www.filmweb.pl/film/Logan%3A+Wolverine-2017-713552'"
      ]
     },
     "execution_count": 184,
     "metadata": {},
     "output_type": "execute_result"
    }
   ],
   "source": [
    "findLink('Logan')"
   ]
  },
  {
   "cell_type": "code",
   "execution_count": 187,
   "metadata": {},
   "outputs": [],
   "source": [
    "def filmInfo(title):\n",
    "    link = findLink(title)\n",
    "    movie = requests.get(link)\n",
    "    soup = BeautifulSoup(movie.text, 'html.parser')\n",
    "    director = soup.find('ul', {\"class\":'inline sep-comma'}).find('a').string\n",
    "    rating = soup.find('script',{'data-type':'setfilm'})\n",
    "    rating = float(re.findall(r'rate:(\\d.\\d+)',rating.string)[0])\n",
    "    wrapper = soup.find('div',{'class':'filmInfo bottom-15'})\n",
    "    boxoffice = float(wrapper.find_all('tr')[-1].find('td').contents[0].split('$')[1].replace(' ',''))\n",
    "    return {'director':director,'rating':rating,'boxoffice':boxoffice}"
   ]
  },
  {
   "cell_type": "code",
   "execution_count": 190,
   "metadata": {},
   "outputs": [
    {
     "data": {
      "text/plain": [
       "{'boxoffice': 521900064.0,\n",
       " 'director': 'Steven Spielberg',\n",
       " 'rating': 7.422399997711182}"
      ]
     },
     "execution_count": 190,
     "metadata": {},
     "output_type": "execute_result"
    }
   ],
   "source": [
    "filmInfo('Player One')"
   ]
  }
 ],
 "metadata": {
  "kernelspec": {
   "display_name": "Python 3",
   "language": "python",
   "name": "python3"
  },
  "language_info": {
   "codemirror_mode": {
    "name": "ipython",
    "version": 3
   },
   "file_extension": ".py",
   "mimetype": "text/x-python",
   "name": "python",
   "nbconvert_exporter": "python",
   "pygments_lexer": "ipython3",
   "version": "3.6.4"
  }
 },
 "nbformat": 4,
 "nbformat_minor": 2
}
