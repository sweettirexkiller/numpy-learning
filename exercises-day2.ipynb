{
 "cells": [
  {
   "cell_type": "code",
   "execution_count": 139,
   "metadata": {},
   "outputs": [],
   "source": [
    "import numpy as np"
   ]
  },
  {
   "cell_type": "markdown",
   "metadata": {},
   "source": [
    "## 1.15"
   ]
  },
  {
   "cell_type": "code",
   "execution_count": 24,
   "metadata": {},
   "outputs": [
    {
     "name": "stdout",
     "output_type": "stream",
     "text": [
      "[4 4 4 4 5 6 6 6 6]\n"
     ]
    },
    {
     "data": {
      "text/plain": [
       "5.0"
      ]
     },
     "execution_count": 24,
     "metadata": {},
     "output_type": "execute_result"
    }
   ],
   "source": [
    "x = np.array([6,4,8,7,5,3,2,9,1])\n",
    "k = 3\n",
    "\n",
    "def kWinsorowksaMean(x, k):\n",
    "    \n",
    "    x.sort()\n",
    "    replaceFirstK = x[k]\n",
    "    replaceLastK = x[-k-1]\n",
    "    spliced = x[k:-k]\n",
    "\n",
    "    return np.r_[np.repeat(replaceFirstK, k), spliced, np.repeat(replaceLastK, k)].mean()\n",
    "\n",
    "kWinsorowksaMean(x,k)"
   ]
  },
  {
   "cell_type": "markdown",
   "metadata": {},
   "source": [
    "## 1.16"
   ]
  },
  {
   "cell_type": "code",
   "execution_count": 16,
   "metadata": {},
   "outputs": [
    {
     "data": {
      "text/plain": [
       "118.0191679575901"
      ]
     },
     "execution_count": 16,
     "metadata": {},
     "output_type": "execute_result"
    }
   ],
   "source": [
    "def stirling(n):\n",
    "    return np.power((n/np.e),n)*np.sqrt(2*np.pi*n)\n",
    "stirling(5)"
   ]
  },
  {
   "cell_type": "markdown",
   "metadata": {},
   "source": [
    "## 1.17"
   ]
  },
  {
   "cell_type": "code",
   "execution_count": 39,
   "metadata": {},
   "outputs": [
    {
     "name": "stdout",
     "output_type": "stream",
     "text": [
      "3.141582653589792\n",
      "3.141592653589793\n"
     ]
    }
   ],
   "source": [
    "def leibniz(n):\n",
    "    indexes = np.arange(n)\n",
    "    oddEven = [(1 if el%2 else -1) for el in indexes]\n",
    "    return -np.sum(oddEven/(2*indexes + 1))*4\n",
    "    \n",
    "print(leibniz(100000))\n",
    "print(np.pi)"
   ]
  },
  {
   "cell_type": "markdown",
   "metadata": {},
   "source": [
    "## 1.19"
   ]
  },
  {
   "cell_type": "code",
   "execution_count": 127,
   "metadata": {},
   "outputs": [
    {
     "data": {
      "text/plain": [
       "array([1., 2., 2., 3., 2.])"
      ]
     },
     "execution_count": 127,
     "metadata": {},
     "output_type": "execute_result"
    }
   ],
   "source": [
    "x = np.array([1,2,np.NaN,3,np.NaN])\n",
    "def substituteNaN(x):\n",
    "    notNan = x[~np.isnan(x)]\n",
    "    notNan.mean()\n",
    "    x[np.isnan(x)] = notNan.mean()\n",
    "    return x\n",
    "substituteNaN(x)"
   ]
  },
  {
   "cell_type": "markdown",
   "metadata": {},
   "source": [
    "## 1.20"
   ]
  },
  {
   "cell_type": "code",
   "execution_count": 149,
   "metadata": {},
   "outputs": [
    {
     "data": {
      "text/plain": [
       "array([3., 1., 4., 1., 5., 9., 2., 6., 5., 3., 5.])"
      ]
     },
     "execution_count": 149,
     "metadata": {},
     "output_type": "execute_result"
    }
   ],
   "source": [
    "result = np.array([])\n",
    "for i in np.arange(12):\n",
    "    if  str(np.pi)[i] == '.':\n",
    "        continue\n",
    "    result = np.r_[result,int(str(np.pi)[i])]\n",
    "result"
   ]
  },
  {
   "cell_type": "markdown",
   "metadata": {},
   "source": [
    "## 1.21"
   ]
  },
  {
   "cell_type": "code",
   "execution_count": 165,
   "metadata": {},
   "outputs": [
    {
     "data": {
      "text/plain": [
       "5"
      ]
     },
     "execution_count": 165,
     "metadata": {},
     "output_type": "execute_result"
    }
   ],
   "source": [
    "x = np.array([6,4,8,7,5,3,2,9,1,9,9,6,5,5,5,5])\n",
    "\n",
    "unq = (np.unique(x, return_counts = True))\n",
    "unq[0][unq[1].argmax()]"
   ]
  },
  {
   "cell_type": "code",
   "execution_count": null,
   "metadata": {},
   "outputs": [],
   "source": []
  }
 ],
 "metadata": {
  "kernelspec": {
   "display_name": "Python 3",
   "language": "python",
   "name": "python3"
  },
  "language_info": {
   "codemirror_mode": {
    "name": "ipython",
    "version": 3
   },
   "file_extension": ".py",
   "mimetype": "text/x-python",
   "name": "python",
   "nbconvert_exporter": "python",
   "pygments_lexer": "ipython3",
   "version": "3.6.4"
  }
 },
 "nbformat": 4,
 "nbformat_minor": 2
}
