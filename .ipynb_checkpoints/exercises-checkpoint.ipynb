{
 "cells": [
  {
   "cell_type": "code",
   "execution_count": null,
   "metadata": {},
   "outputs": [],
   "source": [
    "import numpy as np"
   ]
  },
  {
   "cell_type": "markdown",
   "metadata": {},
   "source": [
    "## 1.1"
   ]
  },
  {
   "cell_type": "code",
   "execution_count": 13,
   "metadata": {},
   "outputs": [
    {
     "data": {
      "text/plain": [
       "array([-1.51338719, -2.98449894,  2.26503393, -1.85943171, -0.19570998,\n",
       "       -3.25434686, -0.18886699, -0.97812463, -3.50936343,  2.72173788,\n",
       "       -2.27539378, -2.2034275 ,  1.21971447, -0.76505291, -3.47901962,\n",
       "       -1.83166483, -3.86337197, -2.68121176, -2.84776714,  3.05875636,\n",
       "        2.22625806,  1.7465126 ,  1.17999242,  3.52967661,  2.60016315,\n",
       "        3.53133252,  1.32715949, -3.58344682, -3.64867856, -1.70709078])"
      ]
     },
     "execution_count": 13,
     "metadata": {},
     "output_type": "execute_result"
    }
   ],
   "source": [
    "A = np.random.uniform(-4,4,30)\n",
    "A"
   ]
  },
  {
   "cell_type": "code",
   "execution_count": 12,
   "metadata": {},
   "outputs": [
    {
     "data": {
      "text/plain": [
       "array([-1.54992005,  1.31596232,  1.28588014,  1.8734799 ,  1.4499654 ,\n",
       "        1.1302798 ,  1.64678557,  1.82167962,  1.40419721,  1.71915667])"
      ]
     },
     "execution_count": 12,
     "metadata": {},
     "output_type": "execute_result"
    }
   ],
   "source": [
    "A[((-2<A) & (A<-1)) | ((1<A)&(A<2))]"
   ]
  },
  {
   "cell_type": "code",
   "execution_count": 14,
   "metadata": {},
   "outputs": [
    {
     "data": {
      "text/plain": [
       "array([2.26503393, 2.72173788, 1.21971447, 3.05875636, 2.22625806,\n",
       "       1.7465126 , 1.17999242, 3.52967661, 2.60016315, 3.53133252,\n",
       "       1.32715949])"
      ]
     },
     "execution_count": 14,
     "metadata": {},
     "output_type": "execute_result"
    }
   ],
   "source": [
    "A[(0<A)]"
   ]
  },
  {
   "cell_type": "code",
   "execution_count": 17,
   "metadata": {},
   "outputs": [
    {
     "data": {
      "text/plain": [
       "2.2925397639355936"
      ]
     },
     "execution_count": 17,
     "metadata": {},
     "output_type": "execute_result"
    }
   ],
   "source": [
    "np.mean(np.absolute(A))"
   ]
  },
  {
   "cell_type": "code",
   "execution_count": 19,
   "metadata": {},
   "outputs": [
    {
     "data": {
      "text/plain": [
       "3.5313325177762005"
      ]
     },
     "execution_count": 19,
     "metadata": {},
     "output_type": "execute_result"
    }
   ],
   "source": [
    "np.max(A)"
   ]
  },
  {
   "cell_type": "code",
   "execution_count": 20,
   "metadata": {},
   "outputs": [
    {
     "data": {
      "text/plain": [
       "-3.863371970457714"
      ]
     },
     "execution_count": 20,
     "metadata": {},
     "output_type": "execute_result"
    }
   ],
   "source": [
    "np.min(A)"
   ]
  },
  {
   "cell_type": "code",
   "execution_count": 32,
   "metadata": {},
   "outputs": [
    {
     "data": {
      "text/plain": [
       "array([-3.86337197, -3.64867856, -3.58344682, -3.50936343, -3.47901962,\n",
       "       -3.25434686, -2.98449894, -2.84776714, -2.68121176, -2.27539378,\n",
       "       -2.2034275 , -1.85943171, -1.83166483, -1.70709078, -1.51338719,\n",
       "       -0.97812463, -0.76505291, -0.19570998, -0.18886699,  1.17999242,\n",
       "        1.21971447,  1.32715949,  1.7465126 ,  2.22625806,  2.26503393,\n",
       "        2.60016315,  2.72173788,  3.05875636,  3.52967661,  3.53133252])"
      ]
     },
     "execution_count": 32,
     "metadata": {},
     "output_type": "execute_result"
    }
   ],
   "source": [
    "np.sort(A)"
   ]
  },
  {
   "cell_type": "code",
   "execution_count": 48,
   "metadata": {},
   "outputs": [],
   "source": [
    "idxMin = (np.abs(A)).argmin()\n",
    "idxMax = (np.abs(A)).argmax()"
   ]
  },
  {
   "cell_type": "code",
   "execution_count": 49,
   "metadata": {},
   "outputs": [
    {
     "data": {
      "text/plain": [
       "-0.1888669942240231"
      ]
     },
     "execution_count": 49,
     "metadata": {},
     "output_type": "execute_result"
    }
   ],
   "source": [
    "A[idxMin]"
   ]
  },
  {
   "cell_type": "code",
   "execution_count": 51,
   "metadata": {},
   "outputs": [
    {
     "data": {
      "text/plain": [
       "-3.863371970457714"
      ]
     },
     "execution_count": 51,
     "metadata": {},
     "output_type": "execute_result"
    }
   ],
   "source": [
    "A[idxMax]"
   ]
  },
  {
   "cell_type": "code",
   "execution_count": 55,
   "metadata": {},
   "outputs": [],
   "source": [
    "idx2Min = (np.abs(A - 2)).argmin()\n",
    "idx2Max = (np.abs(A - 2)).argmax()"
   ]
  },
  {
   "cell_type": "code",
   "execution_count": 56,
   "metadata": {},
   "outputs": [
    {
     "data": {
      "text/plain": [
       "2.2262580572185557"
      ]
     },
     "execution_count": 56,
     "metadata": {},
     "output_type": "execute_result"
    }
   ],
   "source": [
    "A[idx2Min]"
   ]
  },
  {
   "cell_type": "code",
   "execution_count": 57,
   "metadata": {},
   "outputs": [
    {
     "data": {
      "text/plain": [
       "-3.863371970457714"
      ]
     },
     "execution_count": 57,
     "metadata": {},
     "output_type": "execute_result"
    }
   ],
   "source": [
    "A[idx2Max]"
   ]
  },
  {
   "cell_type": "code",
   "execution_count": 68,
   "metadata": {},
   "outputs": [
    {
     "data": {
      "text/plain": [
       "array([-0.51338719, -0.98449894,  0.26503393, -0.85943171, -0.19570998,\n",
       "       -0.25434686, -0.18886699, -0.97812463, -0.50936343,  0.72173788,\n",
       "       -0.27539378, -0.2034275 ,  0.21971447, -0.76505291, -0.47901962,\n",
       "       -0.83166483, -0.86337197, -0.68121176, -0.84776714,  0.05875636,\n",
       "        0.22625806,  0.7465126 ,  0.17999242,  0.52967661,  0.60016315,\n",
       "        0.53133252,  0.32715949, -0.58344682, -0.64867856, -0.70709078])"
      ]
     },
     "execution_count": 68,
     "metadata": {},
     "output_type": "execute_result"
    }
   ],
   "source": [
    "np.modf(A)[0]"
   ]
  },
  {
   "cell_type": "code",
   "execution_count": 70,
   "metadata": {},
   "outputs": [
    {
     "data": {
      "text/plain": [
       "array([-0.36441415, -0.76229665,  0.65751205, -0.45800667, -0.00803014,\n",
       "       -0.83528074, -0.00617936, -0.21964499, -0.9042535 ,  0.78103395,\n",
       "       -0.57050936, -0.55104508,  0.37479096, -0.1620168 , -0.8960466 ,\n",
       "       -0.45049673, -1.        , -0.68026844, -0.72531564,  0.87218525,\n",
       "        0.64702458,  0.51727079,  0.36404758,  0.99955214,  0.74815238,\n",
       "        1.        ,  0.40385095, -0.92429038, -0.9419332 , -0.41680396])"
      ]
     },
     "execution_count": 70,
     "metadata": {},
     "output_type": "execute_result"
    }
   ],
   "source": [
    "min = np.min(A)\n",
    "max = np.max(A)\n",
    "newMin = -1\n",
    "newMax = 1\n",
    "normalized = (A-min)/(max-min)*(newMax-newMin) + newMin\n",
    "normalized"
   ]
  },
  {
   "cell_type": "code",
   "execution_count": 72,
   "metadata": {},
   "outputs": [
    {
     "data": {
      "text/plain": [
       "10.329493323196585"
      ]
     },
     "execution_count": 72,
     "metadata": {},
     "output_type": "execute_result"
    }
   ],
   "source": [
    "np.mean(A[(A<-2)|(3<A)]**2) "
   ]
  },
  {
   "cell_type": "code",
   "execution_count": 91,
   "metadata": {},
   "outputs": [
    {
     "data": {
      "text/plain": [
       "array(['Ujemna', 'Ujemna', 'Nieujemna', 'Ujemna', 'Ujemna', 'Ujemna',\n",
       "       'Ujemna', 'Ujemna', 'Ujemna', 'Nieujemna', 'Ujemna', 'Ujemna',\n",
       "       'Nieujemna', 'Ujemna', 'Ujemna', 'Ujemna', 'Ujemna', 'Ujemna',\n",
       "       'Ujemna', 'Nieujemna', 'Nieujemna', 'Nieujemna', 'Nieujemna',\n",
       "       'Nieujemna', 'Nieujemna', 'Nieujemna', 'Nieujemna', 'Ujemna',\n",
       "       'Ujemna', 'Ujemna'], dtype='<U9')"
      ]
     },
     "execution_count": 91,
     "metadata": {},
     "output_type": "execute_result"
    }
   ],
   "source": [
    "stringify = lambda el: 'Nieujemna' if el else 'Ujemna'\n",
    "stringified = np.array([stringify(el) for el in (A > 0)])\n",
    "stringified"
   ]
  },
  {
   "cell_type": "code",
   "execution_count": 93,
   "metadata": {},
   "outputs": [
    {
     "data": {
      "text/plain": [
       "array(['ujemna', 'ujemna', 'nieujemna', 'ujemna', 'ujemna', 'ujemna',\n",
       "       'ujemna', 'ujemna', 'ujemna', 'nieujemna', 'ujemna', 'ujemna',\n",
       "       'nieujemna', 'ujemna', 'ujemna', 'ujemna', 'ujemna', 'ujemna',\n",
       "       'ujemna', 'nieujemna', 'nieujemna', 'nieujemna', 'nieujemna',\n",
       "       'nieujemna', 'nieujemna', 'nieujemna', 'nieujemna', 'ujemna',\n",
       "       'ujemna', 'ujemna'], dtype='<U9')"
      ]
     },
     "execution_count": 93,
     "metadata": {},
     "output_type": "execute_result"
    }
   ],
   "source": [
    "np.where(A < 0 , 'ujemna', 'nieujemna')"
   ]
  },
  {
   "cell_type": "code",
   "execution_count": 94,
   "metadata": {},
   "outputs": [
    {
     "data": {
      "text/plain": [
       "array([-1.5, -2.5,  2.5, -1.5, -0.5, -3.5, -0.5, -0.5, -3.5,  2.5, -2.5,\n",
       "       -2.5,  1.5, -0.5, -3.5, -1.5, -3.5, -2.5, -2.5,  3.5,  2.5,  1.5,\n",
       "        1.5,  3.5,  2.5,  3.5,  1.5, -3.5, -3.5, -1.5])"
      ]
     },
     "execution_count": 94,
     "metadata": {},
     "output_type": "execute_result"
    }
   ],
   "source": [
    "np.floor(A) + 0.5"
   ]
  },
  {
   "cell_type": "code",
   "execution_count": 95,
   "metadata": {},
   "outputs": [
    {
     "data": {
      "text/plain": [
       "array([-1.5, -2.5,  2.5, -1.5, -0.5, -3.5, -0.5, -0.5, -3.5,  2.5, -2.5,\n",
       "       -2.5,  1.5, -0.5, -3.5, -1.5, -3.5, -2.5, -2.5,  3.5,  2.5,  1.5,\n",
       "        1.5,  3.5,  2.5,  3.5,  1.5, -3.5, -3.5, -1.5])"
      ]
     },
     "execution_count": 95,
     "metadata": {},
     "output_type": "execute_result"
    }
   ],
   "source": [
    "ranges = np.arange(-4, 4)\n",
    "-4 + np.digitize(A, ranges) - 0.5 #digitize puts elemrnts to ranges (index of range)"
   ]
  },
  {
   "cell_type": "code",
   "execution_count": 119,
   "metadata": {},
   "outputs": [
    {
     "data": {
      "text/plain": [
       "-1.0"
      ]
     },
     "execution_count": 119,
     "metadata": {},
     "output_type": "execute_result"
    }
   ],
   "source": [
    "x = np.arange(0,11)\n",
    "y = np.arange(10,-1, -1)\n",
    "\n",
    "x_mean = x.mean()\n",
    "y_mean = y.mean()\n",
    "\n",
    "result = np.sum((x-x_mean)*(y-y_mean))/(np.sqrt(np.sum((x-x_mean)**2))*np.sqrt(np.sum((y-y_mean)**2)))\n",
    "\n",
    "result"
   ]
  },
  {
   "cell_type": "code",
   "execution_count": 121,
   "metadata": {},
   "outputs": [
    {
     "name": "stdout",
     "output_type": "stream",
     "text": [
      "[ 2.02970631  1.19597219 -0.51240477 -0.62004156 -1.51918527  1.06028325\n",
      "  0.27429227  1.93816127 -0.42743903  1.28826499 -0.22182741  0.40270849\n",
      " -1.38344177 -0.49157476 -0.29149823  2.0940752   0.30093281  0.76657576\n",
      " -0.21432098 -1.74126209 -0.75992422 -0.25608144 -0.6778246  -0.64565019\n",
      " -0.715542    0.10654744  0.11582554 -0.14564242 -1.36233378  0.41264899]\n"
     ]
    }
   ],
   "source": [
    "x = np.random.normal(5,10,30);\n",
    "x_standarized = (x - x.mean())/np.std(x)\n",
    "print(x_standarized)"
   ]
  },
  {
   "cell_type": "code",
   "execution_count": 139,
   "metadata": {},
   "outputs": [
    {
     "name": "stdout",
     "output_type": "stream",
     "text": [
      "165\n"
     ]
    }
   ],
   "source": [
    "a = np.arange(0,11)\n",
    "b = np.arange(10,-1, -1)\n",
    "\n",
    "scalar = np.sum(a*b)\n",
    "print(scalar)"
   ]
  },
  {
   "cell_type": "code",
   "execution_count": 176,
   "metadata": {},
   "outputs": [
    {
     "data": {
      "text/plain": [
       "5.0"
      ]
     },
     "execution_count": 176,
     "metadata": {},
     "output_type": "execute_result"
    }
   ],
   "source": [
    "a = np.arange(0,11)\n",
    "b = np.arange(5,16)\n",
    "\n",
    "rmse = np.sqrt(np.sum((a-b)**2)/a.size)\n",
    "\n",
    "rmse"
   ]
  },
  {
   "cell_type": "code",
   "execution_count": 179,
   "metadata": {},
   "outputs": [
    {
     "data": {
      "text/plain": [
       "5.0"
      ]
     },
     "execution_count": 179,
     "metadata": {},
     "output_type": "execute_result"
    }
   ],
   "source": [
    "a = np.arange(0,11)\n",
    "b = np.arange(5,16)\n",
    "\n",
    "mae = np.sum(np.abs(b-a))/a.size\n",
    "mae"
   ]
  },
  {
   "cell_type": "code",
   "execution_count": 182,
   "metadata": {},
   "outputs": [
    {
     "data": {
      "text/plain": [
       "5.0"
      ]
     },
     "execution_count": 182,
     "metadata": {},
     "output_type": "execute_result"
    }
   ],
   "source": [
    "a = np.arange(0,11)\n",
    "b = np.arange(5,16)\n",
    "\n",
    "medAE = np.median(np.abs(b-a))\n",
    "\n",
    "medAE"
   ]
  },
  {
   "cell_type": "code",
   "execution_count": 198,
   "metadata": {},
   "outputs": [
    {
     "name": "stdout",
     "output_type": "stream",
     "text": [
      "[1 0 1 0 0] [1 1 0 0 1]\n"
     ]
    },
    {
     "data": {
      "text/plain": [
       "0.6"
      ]
     },
     "execution_count": 198,
     "metadata": {},
     "output_type": "execute_result"
    }
   ],
   "source": [
    "a = np.random.randint(0,2,5)\n",
    "b = np.random.randint(0,2,5)\n",
    "\n",
    "print(a, b)\n",
    "\n",
    "hamming = np.sum(a != b)/a.size\n",
    "\n",
    "hamming\n"
   ]
  },
  {
   "cell_type": "code",
   "execution_count": 221,
   "metadata": {},
   "outputs": [
    {
     "name": "stdout",
     "output_type": "stream",
     "text": [
      "[ 3.  4.  5. nan nan] [nan nan  1.  2.  3.]\n"
     ]
    }
   ],
   "source": [
    "a = np.array([1,2,3,4,5])\n",
    "\n",
    "\n",
    "# np.concatenate((a[2:], [np.nan, np.nan]), axis=0)\n",
    "\n",
    "def lead(array, lenght):\n",
    "    return np.r_[array[lenght:], np.repeat(np.NaN, lenght)]\n",
    "result1 = lead(a, 2)\n",
    "\n",
    "def lag(array, lenght):\n",
    "    return np.r_[np.repeat(np.NaN, lenght),array[:-lenght]]\n",
    "\n",
    "result2= lag(a,2)\n",
    "\n",
    "print(result1, result2)"
   ]
  },
  {
   "cell_type": "code",
   "execution_count": 235,
   "metadata": {},
   "outputs": [
    {
     "name": "stdout",
     "output_type": "stream",
     "text": [
      "[ True  True False False False] [ True  True  True  True  True]\n"
     ]
    }
   ],
   "source": [
    "a = np.array([True,True,False,False,True])\n",
    "b = np.array([True,True,True,True,True])\n",
    "\n",
    "def cumall(array): #not working\n",
    "    idx = array.argmin() if  array.argmin()  else array.size\n",
    "    return np.r_[np.repeat(True,idx),np.repeat(False, array.size - idx)]\n",
    "result1 = cumall(a)\n",
    "result2 = cumall(b)\n",
    "\n",
    "print(result1,result2)"
   ]
  },
  {
   "cell_type": "code",
   "execution_count": 243,
   "metadata": {
    "scrolled": true
   },
   "outputs": [
    {
     "name": "stdout",
     "output_type": "stream",
     "text": [
      "[False False  True  True  True] [False False False False False]\n"
     ]
    }
   ],
   "source": [
    "a = np.array([False,False,True,False,True])\n",
    "b = np.array([False,False,False,False,False])\n",
    "\n",
    "def cumany(array):\n",
    "    if not np.any(array):\n",
    "        return np.repeat(False,array.size)\n",
    "    else: \n",
    "        n = np.argmax(array)\n",
    "        left = np.repeat(False, n)\n",
    "        right = np.repeat(True, array.size - n)\n",
    "        return np.r_[left,right]\n",
    "\n",
    "result1 = cumany(a)\n",
    "result2 = cumany(b)\n",
    "\n",
    "print(result1,result2)"
   ]
  },
  {
   "cell_type": "code",
   "execution_count": 269,
   "metadata": {},
   "outputs": [
    {
     "data": {
      "text/plain": [
       "(array([2, 5, 8]), array([1022, 2004, 6974]))"
      ]
     },
     "execution_count": 269,
     "metadata": {},
     "output_type": "execute_result"
    }
   ],
   "source": [
    "def random(howMany, possible, probability):\n",
    "    random = np.random.uniform(0,1,howMany)\n",
    "    indexes = np.digitize(random,probability)\n",
    "    return possible[indexes-1]\n",
    "\n",
    "generted = random(10000, np.array([2,5,8]), np.array([0.2,0.3,0.5]))\n",
    "\n",
    "np.unique(generted,return_counts=True)"
   ]
  },
  {
   "cell_type": "code",
   "execution_count": 274,
   "metadata": {},
   "outputs": [
    {
     "data": {
      "image/png": "[encoded data removed]",
      "text/plain": [
       "<Figure size 432x288 with 1 Axes>"
      ]
     },
     "metadata": {},
     "output_type": "display_data"
    },
    {
     "data": {
      "text/plain": [
       "-2.8000000000000007"
      ]
     },
     "execution_count": 274,
     "metadata": {},
     "output_type": "execute_result"
    }
   ],
   "source": [
    "import matplotlib\n",
    "matplotlib.__version__\n",
    "import matplotlib.pyplot as plt\n",
    "%matplotlib inline\n",
    "\n",
    "\n",
    "x = np.array([-5,-3,2,7])\n",
    "y = np.array([4,5,-8,8])\n",
    "z = np.array([-4,-3,0,1,5])\n",
    "\n",
    "\n",
    "plt.plot(x,y,'r')\n",
    "plt.plot(z,np.repeat(0,z.size), 'o')\n",
    "plt.show()\n",
    "\n",
    "\n",
    "x_0 = x[1]\n",
    "x_1 = x[2]\n",
    "y_0 = y[1]\n",
    "y_1 = y[2]\n",
    "z_0 = 0\n",
    "\n",
    "w_0 = y_0 + ((y_1 - y_0)/(x_1 - x_0))*(z_0 - x_0)\n",
    "w_0\n",
    "\n",
    "\n",
    "def interpolate(uknownZ, knownX, knownY):\n",
    "    ranges = np.digitize(uknownZ, knownX)\n",
    "    \n",
    "    return knownY[ranges -1] + ((knownY[ranges] - knownY[ranges -1])/(knownX[ranges] - knownX[ranges -1]))*(uknownZ- knownX[ranges -1])\n",
    "    "
   ]
  }
 ],
 "metadata": {
  "kernelspec": {
   "display_name": "Python 3",
   "language": "python",
   "name": "python3"
  },
  "language_info": {
   "codemirror_mode": {
    "name": "ipython",
    "version": 3
   },
   "file_extension": ".py",
   "mimetype": "text/x-python",
   "name": "python",
   "nbconvert_exporter": "python",
   "pygments_lexer": "ipython3",
   "version": "3.6.4"
  }
 },
 "nbformat": 4,
 "nbformat_minor": 2
}
