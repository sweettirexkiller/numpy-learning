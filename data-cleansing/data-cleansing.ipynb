{
 "cells": [
  {
   "cell_type": "code",
   "execution_count": 47,
   "metadata": {},
   "outputs": [],
   "source": [
    "import pandas as pd\n",
    "import numpy as np\n",
    "import unicodedata"
   ]
  },
  {
   "cell_type": "code",
   "execution_count": 69,
   "metadata": {},
   "outputs": [],
   "source": [
    "grades = pd.read_csv('data.csv',engine='python')"
   ]
  },
  {
   "cell_type": "code",
   "execution_count": 70,
   "metadata": {},
   "outputs": [
    {
     "data": {
      "text/html": [
       "<div>\n",
       "<style scoped>\n",
       "    .dataframe tbody tr th:only-of-type {\n",
       "        vertical-align: middle;\n",
       "    }\n",
       "\n",
       "    .dataframe tbody tr th {\n",
       "        vertical-align: top;\n",
       "    }\n",
       "\n",
       "    .dataframe thead th {\n",
       "        text-align: right;\n",
       "    }\n",
       "</style>\n",
       "<table border=\"1\" class=\"dataframe\">\n",
       "  <thead>\n",
       "    <tr style=\"text-align: right;\">\n",
       "      <th></th>\n",
       "      <th>Imię</th>\n",
       "      <th>Nazwisko</th>\n",
       "      <th>Z1(4+1)</th>\n",
       "      <th>Z2(4+1)</th>\n",
       "      <th>Z3(4+1)</th>\n",
       "      <th>Z4(4+1)</th>\n",
       "      <th>Z5(2+2)</th>\n",
       "      <th>Z6(4+1)</th>\n",
       "      <th>Z7(4+1)</th>\n",
       "      <th>Z8(4+1)</th>\n",
       "      <th>Z9(4+1)</th>\n",
       "      <th>Z10(4+1)</th>\n",
       "      <th>Z11(4+1)</th>\n",
       "      <th>Z12(4+1)</th>\n",
       "      <th>Z13(5)</th>\n",
       "      <th>Z14(4+1)</th>\n",
       "      <th>Z15(5)</th>\n",
       "    </tr>\n",
       "  </thead>\n",
       "  <tbody>\n",
       "    <tr>\n",
       "      <th>0</th>\n",
       "      <td>Anna</td>\n",
       "      <td>Nowak</td>\n",
       "      <td>2.5+1.0</td>\n",
       "      <td>4.0+1.0</td>\n",
       "      <td>2.0+0.0</td>\n",
       "      <td>1.0+2.0</td>\n",
       "      <td>1.5+2.0</td>\n",
       "      <td>2.0+0.0</td>\n",
       "      <td>0.0+NB</td>\n",
       "      <td>1.5+1.0</td>\n",
       "      <td>3.5+0.5</td>\n",
       "      <td>2.0+0.0</td>\n",
       "      <td>0.5+1.0</td>\n",
       "      <td>ZW+ZW</td>\n",
       "      <td>4.0+0.0</td>\n",
       "      <td>4.0+1.0</td>\n",
       "      <td>NA</td>\n",
       "    </tr>\n",
       "    <tr>\n",
       "      <th>1</th>\n",
       "      <td>Rafał</td>\n",
       "      <td>Kowalski</td>\n",
       "      <td>3.0+0.0</td>\n",
       "      <td>2.0+0.5</td>\n",
       "      <td>2.0+1.0</td>\n",
       "      <td>1.5+1.5</td>\n",
       "      <td>2.0+1.0</td>\n",
       "      <td>1.0+0.5</td>\n",
       "      <td>0.0+NB</td>\n",
       "      <td>3.0+1.0</td>\n",
       "      <td>3.5+1.0</td>\n",
       "      <td>0.0+NB</td>\n",
       "      <td>1.0+1.0</td>\n",
       "      <td>NS.(3.0)+NS.(1.0)</td>\n",
       "      <td>4.0+0.0</td>\n",
       "      <td>4.0+1.0</td>\n",
       "      <td>NA</td>\n",
       "    </tr>\n",
       "    <tr>\n",
       "      <th>2</th>\n",
       "      <td>Pavlo</td>\n",
       "      <td>Wiśniewski</td>\n",
       "      <td>2.5+0.5</td>\n",
       "      <td>US+1.0</td>\n",
       "      <td>2.5+1.0</td>\n",
       "      <td>1.5+1.5</td>\n",
       "      <td>2.0+1.5</td>\n",
       "      <td>3.5+0.0</td>\n",
       "      <td>1.0+1.0</td>\n",
       "      <td>3.0+1.0</td>\n",
       "      <td>3.5+1.0</td>\n",
       "      <td>ZW+ZW</td>\n",
       "      <td>1.0+0.5</td>\n",
       "      <td>3.5+1.0</td>\n",
       "      <td>4.0+1.0</td>\n",
       "      <td>4.0+1.0</td>\n",
       "      <td>NA</td>\n",
       "    </tr>\n",
       "    <tr>\n",
       "      <th>3</th>\n",
       "      <td>Aleksy</td>\n",
       "      <td>Dąbrowski</td>\n",
       "      <td>0.5+1.0</td>\n",
       "      <td>1.0+1.0</td>\n",
       "      <td>NA+NA</td>\n",
       "      <td>NA+NA</td>\n",
       "      <td>NA+NA</td>\n",
       "      <td>NA+NA</td>\n",
       "      <td>NA+NA</td>\n",
       "      <td>NA+NA</td>\n",
       "      <td>NA+NA</td>\n",
       "      <td>NA+NA</td>\n",
       "      <td>NA+NA</td>\n",
       "      <td>NA+NA</td>\n",
       "      <td>NA+NA</td>\n",
       "      <td>NA+NA</td>\n",
       "      <td>NA</td>\n",
       "    </tr>\n",
       "    <tr>\n",
       "      <th>4</th>\n",
       "      <td>Jarosław</td>\n",
       "      <td>Lewandowski</td>\n",
       "      <td>2.0+0.0</td>\n",
       "      <td>3.0+1.0</td>\n",
       "      <td>1.0+0.0</td>\n",
       "      <td>1.5+1.5</td>\n",
       "      <td>0.5+0.0</td>\n",
       "      <td>1.25+0.0</td>\n",
       "      <td>0.0+NB</td>\n",
       "      <td>2.5+0.0</td>\n",
       "      <td>NB+NB</td>\n",
       "      <td>NB+NB</td>\n",
       "      <td>NB+NB</td>\n",
       "      <td>NB+NB</td>\n",
       "      <td>NB+NB</td>\n",
       "      <td>NB+NB</td>\n",
       "      <td>NA</td>\n",
       "    </tr>\n",
       "  </tbody>\n",
       "</table>\n",
       "</div>"
      ],
      "text/plain": [
       "       Imię         Nazwisko                Z1(4+1)    Z2(4+1)      Z3(4+1)  \\\n",
       "0      Anna            Nowak                2.5+1.0    4.0+1.0      2.0+0.0   \n",
       "1     Rafał         Kowalski                3.0+0.0    2.0+0.5      2.0+1.0   \n",
       "2     Pavlo       Wiśniewski                2.5+0.5     US+1.0      2.5+1.0   \n",
       "3    Aleksy        Dąbrowski                0.5+1.0    1.0+1.0        NA+NA   \n",
       "4  Jarosław      Lewandowski                2.0+0.0    3.0+1.0      1.0+0.0   \n",
       "\n",
       "      Z4(4+1)     Z5(2+2)      Z6(4+1)     Z7(4+1)     Z8(4+1)     Z9(4+1)  \\\n",
       "0     1.0+2.0     1.5+2.0      2.0+0.0      0.0+NB     1.5+1.0     3.5+0.5   \n",
       "1     1.5+1.5     2.0+1.0      1.0+0.5      0.0+NB     3.0+1.0     3.5+1.0   \n",
       "2     1.5+1.5     2.0+1.5      3.5+0.0     1.0+1.0     3.0+1.0     3.5+1.0   \n",
       "3       NA+NA       NA+NA        NA+NA       NA+NA       NA+NA       NA+NA   \n",
       "4     1.5+1.5     0.5+0.0     1.25+0.0      0.0+NB     2.5+0.0       NB+NB   \n",
       "\n",
       "     Z10(4+1)      Z11(4+1)              Z12(4+1)                  Z13(5)  \\\n",
       "0     2.0+0.0       0.5+1.0                 ZW+ZW                 4.0+0.0   \n",
       "1      0.0+NB       1.0+1.0     NS.(3.0)+NS.(1.0)                 4.0+0.0   \n",
       "2       ZW+ZW       1.0+0.5               3.5+1.0                 4.0+1.0   \n",
       "3       NA+NA         NA+NA                 NA+NA                   NA+NA   \n",
       "4       NB+NB         NB+NB                 NB+NB                   NB+NB   \n",
       "\n",
       "    Z14(4+1) Z15(5)  \n",
       "0    4.0+1.0     NA  \n",
       "1    4.0+1.0     NA  \n",
       "2    4.0+1.0     NA  \n",
       "3      NA+NA     NA  \n",
       "4      NB+NB     NA  "
      ]
     },
     "execution_count": 70,
     "metadata": {},
     "output_type": "execute_result"
    }
   ],
   "source": [
    "grades.head()"
   ]
  },
  {
   "cell_type": "code",
   "execution_count": 71,
   "metadata": {},
   "outputs": [
    {
     "data": {
      "text/plain": [
       "Index(['Imię', '      Nazwisko', '           Z1(4+1)', '  Z2(4+1)',\n",
       "       '    Z3(4+1)', '   Z4(4+1)', '   Z5(2+2)', '   Z6(4+1)', '  Z7(4+1)',\n",
       "       '   Z8(4+1)', '   Z9(4+1)', ' Z10(4+1)', '    Z11(4+1)', '  Z12(4+1)',\n",
       "       '            Z13(5)', '  Z14(4+1)', 'Z15(5)'],\n",
       "      dtype='object')"
      ]
     },
     "execution_count": 71,
     "metadata": {},
     "output_type": "execute_result"
    }
   ],
   "source": [
    "grades.columns"
   ]
  },
  {
   "cell_type": "code",
   "execution_count": 72,
   "metadata": {},
   "outputs": [],
   "source": [
    "grades.columns = grades.columns.str.strip()"
   ]
  },
  {
   "cell_type": "code",
   "execution_count": 73,
   "metadata": {},
   "outputs": [
    {
     "data": {
      "text/plain": [
       "Index(['Imię', 'Nazwisko', 'Z1(4+1)', 'Z2(4+1)', 'Z3(4+1)', 'Z4(4+1)',\n",
       "       'Z5(2+2)', 'Z6(4+1)', 'Z7(4+1)', 'Z8(4+1)', 'Z9(4+1)', 'Z10(4+1)',\n",
       "       'Z11(4+1)', 'Z12(4+1)', 'Z13(5)', 'Z14(4+1)', 'Z15(5)'],\n",
       "      dtype='object')"
      ]
     },
     "execution_count": 73,
     "metadata": {},
     "output_type": "execute_result"
    }
   ],
   "source": [
    "grades.columns"
   ]
  },
  {
   "cell_type": "code",
   "execution_count": 74,
   "metadata": {},
   "outputs": [],
   "source": [
    "grades.Nazwisko = grades.Nazwisko.str.strip()"
   ]
  },
  {
   "cell_type": "code",
   "execution_count": 75,
   "metadata": {},
   "outputs": [
    {
     "data": {
      "text/plain": [
       "'ascnzzloe'"
      ]
     },
     "execution_count": 75,
     "metadata": {},
     "output_type": "execute_result"
    }
   ],
   "source": [
    "def removePolishAccents(text):\n",
    "    text = text.replace('ł', 'l')\n",
    "    text = text.replace('Ł', 'L')\n",
    "    return unicodedata.normalize('NFD', text).encode('ascii', 'ignore').decode('UTF-8')\n",
    "\n",
    "removePolishAccents(\"ąśćńżźłóę\")"
   ]
  },
  {
   "cell_type": "code",
   "execution_count": 76,
   "metadata": {},
   "outputs": [],
   "source": [
    "removeAccentsVectorized = np.vectorize(removePolishAccents)"
   ]
  },
  {
   "cell_type": "code",
   "execution_count": 79,
   "metadata": {},
   "outputs": [
    {
     "data": {
      "text/plain": [
       "0           nowaka@student.mini.pw.edu.pl\n",
       "1        kowalskir@student.mini.pw.edu.pl\n",
       "2      wisniewskip@student.mini.pw.edu.pl\n",
       "3       dabrowskia@student.mini.pw.edu.pl\n",
       "4     lewandowskij@student.mini.pw.edu.pl\n",
       "5          wojcikb@student.mini.pw.edu.pl\n",
       "6        kaminskił@student.mini.pw.edu.pl\n",
       "7       kowalczyko@student.mini.pw.edu.pl\n",
       "8       zielinskaj@student.mini.pw.edu.pl\n",
       "9       szymanskio@student.mini.pw.edu.pl\n",
       "10        wozniakp@student.mini.pw.edu.pl\n",
       "Name: email, dtype: object"
      ]
     },
     "execution_count": 79,
     "metadata": {},
     "output_type": "execute_result"
    }
   ],
   "source": [
    "grades['email'] = removeAccentsVectorized(grades.Nazwisko.str.lower()) + grades['Imię'].str.lower().str[0] + '@student.mini.pw.edu.pl'\n",
    "grades.email"
   ]
  },
  {
   "cell_type": "code",
   "execution_count": 81,
   "metadata": {},
   "outputs": [
    {
     "data": {
      "text/plain": [
       "'nowaka@student.mini.pw.edu.pl, kowalskir@student.mini.pw.edu.pl, wisniewskip@student.mini.pw.edu.pl, dabrowskia@student.mini.pw.edu.pl, lewandowskij@student.mini.pw.edu.pl, wojcikb@student.mini.pw.edu.pl, kaminskił@student.mini.pw.edu.pl, kowalczyko@student.mini.pw.edu.pl, zielinskaj@student.mini.pw.edu.pl, szymanskio@student.mini.pw.edu.pl, wozniakp@student.mini.pw.edu.pl'"
      ]
     },
     "execution_count": 81,
     "metadata": {},
     "output_type": "execute_result"
    }
   ],
   "source": [
    "grades.email.str.cat(sep=', ')"
   ]
  },
  {
   "cell_type": "code",
   "execution_count": 90,
   "metadata": {},
   "outputs": [],
   "source": [
    "column3 = grades['Z1(4+1)'].str.strip()"
   ]
  },
  {
   "cell_type": "code",
   "execution_count": 125,
   "metadata": {
    "scrolled": true
   },
   "outputs": [
    {
     "data": {
      "text/html": [
       "<div>\n",
       "<style scoped>\n",
       "    .dataframe tbody tr th:only-of-type {\n",
       "        vertical-align: middle;\n",
       "    }\n",
       "\n",
       "    .dataframe tbody tr th {\n",
       "        vertical-align: top;\n",
       "    }\n",
       "\n",
       "    .dataframe thead th {\n",
       "        text-align: right;\n",
       "    }\n",
       "</style>\n",
       "<table border=\"1\" class=\"dataframe\">\n",
       "  <thead>\n",
       "    <tr style=\"text-align: right;\">\n",
       "      <th></th>\n",
       "      <th>0</th>\n",
       "      <th>1</th>\n",
       "    </tr>\n",
       "  </thead>\n",
       "  <tbody>\n",
       "    <tr>\n",
       "      <th>0</th>\n",
       "      <td>2.5</td>\n",
       "      <td>1.0</td>\n",
       "    </tr>\n",
       "    <tr>\n",
       "      <th>1</th>\n",
       "      <td>3.0</td>\n",
       "      <td>0.0</td>\n",
       "    </tr>\n",
       "    <tr>\n",
       "      <th>2</th>\n",
       "      <td>2.5</td>\n",
       "      <td>0.5</td>\n",
       "    </tr>\n",
       "    <tr>\n",
       "      <th>3</th>\n",
       "      <td>0.5</td>\n",
       "      <td>1.0</td>\n",
       "    </tr>\n",
       "    <tr>\n",
       "      <th>4</th>\n",
       "      <td>2.0</td>\n",
       "      <td>0.0</td>\n",
       "    </tr>\n",
       "    <tr>\n",
       "      <th>5</th>\n",
       "      <td>2.0</td>\n",
       "      <td>1.0</td>\n",
       "    </tr>\n",
       "    <tr>\n",
       "      <th>6</th>\n",
       "      <td>4.0</td>\n",
       "      <td>1.0</td>\n",
       "    </tr>\n",
       "    <tr>\n",
       "      <th>7</th>\n",
       "      <td>4.0</td>\n",
       "      <td>0.5</td>\n",
       "    </tr>\n",
       "    <tr>\n",
       "      <th>8</th>\n",
       "      <td>2.5</td>\n",
       "      <td>0.0</td>\n",
       "    </tr>\n",
       "    <tr>\n",
       "      <th>9</th>\n",
       "      <td>2.5</td>\n",
       "      <td>1.0</td>\n",
       "    </tr>\n",
       "    <tr>\n",
       "      <th>10</th>\n",
       "      <td>2.0</td>\n",
       "      <td>1.0</td>\n",
       "    </tr>\n",
       "  </tbody>\n",
       "</table>\n",
       "</div>"
      ],
      "text/plain": [
       "      0    1\n",
       "0   2.5  1.0\n",
       "1   3.0  0.0\n",
       "2   2.5  0.5\n",
       "3   0.5  1.0\n",
       "4   2.0  0.0\n",
       "5   2.0  1.0\n",
       "6   4.0  1.0\n",
       "7   4.0  0.5\n",
       "8   2.5  0.0\n",
       "9   2.5  1.0\n",
       "10  2.0  1.0"
      ]
     },
     "execution_count": 125,
     "metadata": {},
     "output_type": "execute_result"
    }
   ],
   "source": [
    "column3.str.split('+',expand=True)"
   ]
  },
  {
   "cell_type": "code",
   "execution_count": 124,
   "metadata": {},
   "outputs": [
    {
     "data": {
      "text/plain": [
       "[('5', '4', '1)')]"
      ]
     },
     "execution_count": 124,
     "metadata": {},
     "output_type": "execute_result"
    }
   ],
   "source": [
    "import re\n",
    "\n",
    "re.findall(r\"Z(\\d+)\\((\\d+)\\+(\\d+\\))\",\"Z5(4+1)\")\n"
   ]
  }
 ],
 "metadata": {
  "kernelspec": {
   "display_name": "Python 3",
   "language": "python",
   "name": "python3"
  },
  "language_info": {
   "codemirror_mode": {
    "name": "ipython",
    "version": 3
   },
   "file_extension": ".py",
   "mimetype": "text/x-python",
   "name": "python",
   "nbconvert_exporter": "python",
   "pygments_lexer": "ipython3",
   "version": "3.6.4"
  }
 },
 "nbformat": 4,
 "nbformat_minor": 2
}
